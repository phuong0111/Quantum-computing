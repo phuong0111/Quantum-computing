{
 "cells": [
  {
   "cell_type": "markdown",
   "id": "45d43245",
   "metadata": {},
   "source": [
    "# Deutsch's algorithm"
   ]
  },
  {
   "cell_type": "code",
   "execution_count": 1,
   "id": "8eac8ca7",
   "metadata": {},
   "outputs": [
    {
     "name": "stdout",
     "output_type": "stream",
     "text": [
      "2.1.0\n"
     ]
    }
   ],
   "source": [
    "from qiskit import __version__\n",
    "print(__version__)\n",
    "\n",
    "from qiskit import QuantumCircuit\n",
    "from qiskit_aer import AerSimulator"
   ]
  },
  {
   "cell_type": "markdown",
   "id": "f137b6d4",
   "metadata": {},
   "source": [
    "#### Define deutsch's algorithm\n",
    "![deutsch](../Images/02.deutsch's-algo.png)"
   ]
  },
  {
   "cell_type": "code",
   "execution_count": 2,
   "id": "e9744fdc",
   "metadata": {},
   "outputs": [],
   "source": [
    "def deutsch_function(case: int):\n",
    "    # This function generates a quantum circuit for one of the 4 functions\n",
    "    # from one bit to one bit\n",
    "\n",
    "    if case not in [1, 2, 3, 4]:\n",
    "        raise ValueError(\"`case` must be 1, 2, 3, or 4.\")\n",
    "\n",
    "    f = QuantumCircuit(2)\n",
    "    if case in [2, 3]:\n",
    "        f.cx(0, 1)\n",
    "    if case in [3, 4]:\n",
    "        f.x(1)\n",
    "    return f"
   ]
  },
  {
   "cell_type": "markdown",
   "id": "ae0035fe",
   "metadata": {},
   "source": [
    "Next we will create the actual quantum circuit for Deutsch's algorithm, substituting the query gate with a quantum circuit implementation given as an argument. Shortly we'll plug in one of the four circuits defined by the function we defined earlier."
   ]
  },
  {
   "cell_type": "code",
   "execution_count": 3,
   "id": "08bd0a4e",
   "metadata": {},
   "outputs": [],
   "source": [
    "def compile_circuit(function: QuantumCircuit):\n",
    "    # Compiles a circuit for use in Deutsch's algorithm.\n",
    "\n",
    "    n = function.num_qubits - 1\n",
    "    qc = QuantumCircuit(n + 1, n)\n",
    "\n",
    "    qc.x(n)\n",
    "    qc.h(range(n + 1))\n",
    "\n",
    "    qc.barrier()\n",
    "    qc.compose(function, inplace=True)\n",
    "    qc.barrier()\n",
    "\n",
    "    qc.h(range(n))\n",
    "    qc.measure(range(n), range(n))\n",
    "\n",
    "    return qc"
   ]
  },
  {
   "cell_type": "code",
   "execution_count": 4,
   "id": "4bd14030",
   "metadata": {},
   "outputs": [
    {
     "data": {
      "image/png": "[encoded data removed]",
      "text/plain": [
       "<Figure size 788.961x284.278 with 1 Axes>"
      ]
     },
     "metadata": {},
     "output_type": "display_data"
    }
   ],
   "source": [
    "display(compile_circuit(deutsch_function(3)).draw(output=\"mpl\"))"
   ]
  },
  {
   "cell_type": "code",
   "execution_count": 5,
   "id": "508396a5",
   "metadata": {},
   "outputs": [
    {
     "data": {
      "text/plain": [
       "'constant'"
      ]
     },
     "metadata": {},
     "output_type": "display_data"
    }
   ],
   "source": [
    "def deutsch_algorithm(function: QuantumCircuit):\n",
    "    # Determine if a one-bit function is constant or balanced.\n",
    "\n",
    "    qc = compile_circuit(function)\n",
    "\n",
    "    result = AerSimulator().run(qc, shots=1, memory=True).result()\n",
    "    measurements = result.get_memory()\n",
    "    if measurements[0] == \"0\":\n",
    "        return \"constant\"\n",
    "    return \"balanced\"\n",
    "\n",
    "f = deutsch_function(1)\n",
    "display(deutsch_algorithm(f))"
   ]
  },
  {
   "cell_type": "markdown",
   "id": "82d99b2c",
   "metadata": {},
   "source": [
    "# Deutsch-Jozsa problem"
   ]
  },
  {
   "cell_type": "code",
   "execution_count": 6,
   "id": "ad685b00",
   "metadata": {},
   "outputs": [],
   "source": [
    "from qiskit import QuantumCircuit\n",
    "from qiskit_aer import AerSimulator\n",
    "import numpy as np"
   ]
  },
  {
   "cell_type": "code",
   "execution_count": 7,
   "id": "f9e70d4b",
   "metadata": {},
   "outputs": [],
   "source": [
    "def dj_query(num_qubits):\n",
    "    # Create a circuit implementing for a query gate for a random function\n",
    "    # satisfying the promise for the Deutsch-Jozsa problem.\n",
    "\n",
    "    qc = QuantumCircuit(num_qubits + 1)\n",
    "\n",
    "    if np.random.randint(0, 2):\n",
    "        # Flip output qubit with 50% chance\n",
    "        qc.x(num_qubits)\n",
    "    if np.random.randint(0, 2):\n",
    "        # return constant circuit with 50% chance\n",
    "        return qc\n",
    "\n",
    "    # Choose half the possible input strings\n",
    "    on_states = np.random.choice(\n",
    "        range(2**num_qubits),  # numbers to sample from\n",
    "        2**num_qubits // 2,  # number of samples\n",
    "        replace=False,  # makes sure states are only sampled once\n",
    "    )\n",
    "    print(on_states)\n",
    "\n",
    "    def add_cx(qc, bit_string):\n",
    "        for qubit, bit in enumerate(reversed(bit_string)):\n",
    "            if bit == \"1\":\n",
    "                qc.x(qubit)\n",
    "        return qc\n",
    "\n",
    "    for state in on_states:\n",
    "        \"\"\"\n",
    "        Explain for this step\n",
    "        For example: state = 6 = 110 -> q0 = 0; q1 = q2 = 1;\n",
    "        only input state 001 -> i0 = 1; i1 = i2 = 0;\n",
    "        q1 = 1 -> flip i1 to 1\n",
    "        q2 = 1 -> flip i2 to 1\n",
    "        -> flip output qubit\n",
    "        \"\"\"\n",
    "        qc.barrier()  # Barriers are added to help visualize how the functions are created.\n",
    "        qc = add_cx(qc, f\"{state:0b}\")\n",
    "        qc.mcx(list(range(num_qubits)), num_qubits) # mcx only trigger when all controled bits is 1\n",
    "        qc = add_cx(qc, f\"{state:0b}\")\n",
    "\n",
    "    qc.barrier()\n",
    "\n",
    "    return qc"
   ]
  },
  {
   "cell_type": "code",
   "execution_count": 8,
   "id": "2b226040",
   "metadata": {},
   "outputs": [
    {
     "name": "stdout",
     "output_type": "stream",
     "text": [
      "[5 7 3 2]\n"
     ]
    },
    {
     "data": {
      "image/png": "[encoded data removed]",
      "text/plain": [
       "<Figure size 1541.66x367.889 with 1 Axes>"
      ]
     },
     "metadata": {},
     "output_type": "display_data"
    }
   ],
   "source": [
    "display(dj_query(3).draw(output=\"mpl\"))"
   ]
  },
  {
   "cell_type": "code",
   "execution_count": 9,
   "id": "2f1cf7dd",
   "metadata": {},
   "outputs": [],
   "source": [
    "def compile_circuit(function: QuantumCircuit):\n",
    "    # Compiles a circuit for use in the Deutsch-Jozsa algorithm.\n",
    "\n",
    "    n = function.num_qubits - 1\n",
    "    qc = QuantumCircuit(n + 1, n)\n",
    "    qc.x(n)\n",
    "    qc.h(range(n + 1))\n",
    "    qc.compose(function, inplace=True)\n",
    "    qc.h(range(n))\n",
    "    qc.measure(range(n), range(n))\n",
    "    return qc"
   ]
  },
  {
   "cell_type": "code",
   "execution_count": 10,
   "id": "93cf1d31",
   "metadata": {},
   "outputs": [],
   "source": [
    "def dj_algorithm(function: QuantumCircuit):\n",
    "    # Determine if a function is constant or balanced.\n",
    "\n",
    "    qc = compile_circuit(function)\n",
    "\n",
    "    result = AerSimulator().run(qc, shots=1, memory=True).result()\n",
    "    measurements = result.get_memory()\n",
    "    if \"1\" in measurements[0]:\n",
    "        return \"balanced\"\n",
    "    return \"constant\""
   ]
  },
  {
   "cell_type": "code",
   "execution_count": 11,
   "id": "800287a9",
   "metadata": {},
   "outputs": [
    {
     "data": {
      "image/png": "[encoded data removed]",
      "text/plain": [
       "<Figure size 162.08x367.889 with 1 Axes>"
      ]
     },
     "metadata": {},
     "output_type": "display_data"
    },
    {
     "data": {
      "text/plain": [
       "'constant'"
      ]
     },
     "metadata": {},
     "output_type": "display_data"
    }
   ],
   "source": [
    "f = dj_query(3)\n",
    "display(f.draw(\"mpl\"))\n",
    "display(dj_algorithm(f))"
   ]
  },
  {
   "cell_type": "markdown",
   "id": "68f3a48d",
   "metadata": {},
   "source": [
    "## Binary Dot Product and Bernstein-Vazirani Problem\n",
    "\n",
    "#### Notation\n",
    "\n",
    "First let's introduce some notation. For any two binary strings $x = x_{n-1} \\cdots x_0$ and $y = y_{n-1} \\cdots y_0$ of length $n$, we define\n",
    "\n",
    "$$x \\cdot y = x_{n-1} y_{n-1} \\oplus \\cdots \\oplus x_0 y_0$$\n",
    "\n",
    "We'll refer to this operation as the **binary dot product**. \n",
    "\n",
    "An alternative way to define it is like so:\n",
    "\n",
    "$$x \\cdot y = \\begin{cases}\n",
    "1 & \\text{if } x_{n-1} y_{n-1} + \\cdots + x_0 y_0 \\text{ is odd} \\\\\n",
    "0 & \\text{if } x_{n-1} y_{n-1} + \\cdots + x_0 y_0 \\text{ is even}\n",
    "\\end{cases}$$\n",
    "\n",
    "Notice that this is a symmetric operation, meaning that the result doesn't change if we swap $x$ and $y$, so we're free to do that whenever it's convenient. Sometimes it's useful to think about the binary dot product $x \\cdot y$ as being the parity of the bits of $x$ in positions where the string $y$ has a $1$, or equivalently, the parity of the bits of $y$ in positions where the string $x$ has a $1$.\n",
    "\n",
    "#### Bernstein-Vazirani Problem\n",
    "\n",
    "With this notation in hand we can now define the Bernstein-Vazirani problem.\n",
    "\n",
    "**Bernstein-Vazirani Problem**\n",
    "\n",
    "- **Input:** a function $f: \\{0,1\\}^n \\to \\{0,1\\}$\n",
    "- **Promise:** there exists a binary string $s = s_{n-1} \\cdots s_0$ for which $f(x) = s \\cdot x$ for all $x \\in \\{0,1\\}^n$\n",
    "- **Output:** the string $s$"
   ]
  },
  {
   "cell_type": "code",
   "execution_count": 12,
   "id": "53ca4c06",
   "metadata": {},
   "outputs": [
    {
     "data": {
      "image/png": "[encoded data removed]",
      "text/plain": [
       "<Figure size 371.107x451.5 with 1 Axes>"
      ]
     },
     "metadata": {},
     "output_type": "display_data"
    }
   ],
   "source": [
    "def bv_query(s):\n",
    "    \"\"\"f(x) = s.x\"\"\"\n",
    "    # Create a quantum circuit implementing a query gate for the\n",
    "    # Bernstein-Vazirani problem.\n",
    "\n",
    "    qc = QuantumCircuit(len(s) + 1)\n",
    "    for index, bit in enumerate(reversed(s)):\n",
    "        if bit == \"1\":\n",
    "            qc.cx(index, len(s))\n",
    "    return qc\n",
    "\n",
    "display(bv_query(\"1011\").draw(output=\"mpl\"))"
   ]
  },
  {
   "cell_type": "code",
   "execution_count": 13,
   "id": "7f8ec150",
   "metadata": {},
   "outputs": [
    {
     "data": {
      "text/plain": [
       "'1011'"
      ]
     },
     "metadata": {},
     "output_type": "display_data"
    }
   ],
   "source": [
    "def bv_algorithm(function: QuantumCircuit):\n",
    "    qc = compile_circuit(function)\n",
    "    result = AerSimulator().run(qc, shots=1, memory=True).result()\n",
    "    return result.get_memory()[0]\n",
    "\n",
    "display(bv_algorithm(bv_query(\"1011\")))"
   ]
  },
  {
   "cell_type": "markdown",
   "id": "3e3ff24b",
   "metadata": {},
   "source": [
    "## Simon's Problem\n",
    "\n",
    "#### 1. Problem Definition\n",
    "\n",
    "The input function for Simon's problem takes the form:\n",
    "\n",
    "$$f: \\Sigma^n \\to \\Sigma^m$$\n",
    "\n",
    "for positive integers $n$ and $m$. We could restrict our attention to the case $m = n$ in the interest of simplicity, but there's little to be gained in making this assumption — Simon's algorithm and its analysis are basically the same either way.\n",
    "\n",
    "**Simon's Problem**\n",
    "\n",
    "**Input**: A function $f: \\Sigma^n \\to \\Sigma^m$\n",
    "\n",
    "**Promise**: There exists a string $s \\in \\Sigma^n$ such that:\n",
    "$$[f(x) = f(y)] \\Leftrightarrow [(x = y) \\vee (x \\oplus s = y)]$$\n",
    "for all $x, y \\in \\Sigma^n$\n",
    "\n",
    "**Output**: The string $s$\n",
    "\n",
    "#### 2. Understanding the Promise\n",
    "\n",
    "We'll unpack the promise to better understand what it says momentarily, but first let's be clear that it requires that $f$ has a very special structure — so most functions won't satisfy this promise. It's also fitting to acknowledge that this problem isn't intended to have practical importance. Rather, it's a somewhat artificial problem tailor-made to be easy for quantum computers and hard for classical computers.\n",
    "\n",
    "There are two main cases: the first case is that $s$ is the all-zero string $0^n$, and the second case is that $s$ is not the all-zero string.\n",
    "\n",
    "**Case 1: $s = 0^n$**\n",
    "\n",
    "If $s$ is the all-zero string, then we can simplify the if and only if statement in the promise so that it reads:\n",
    "$$[f(x) = f(y)] \\Leftrightarrow [x = y]$$\n",
    "\n",
    "This condition is true for all strings $x, y \\in \\Sigma^n$ if and only if $f$ is a **one-to-one function**.\n",
    "\n",
    "Case 2: $s \\neq 0^n$**\n",
    "\n",
    "If $s$ is not the all-zero string, then the promise being satisfied for this string implies that $f$ is **two-to-one**, meaning that for every possible output string of $f$, there are exactly two input strings that cause $f$ to output that string. Moreover, these two input strings must take the form $x$ and $x \\oplus s$ for some string $x$.\n",
    "\n",
    "#### 3. Uniqueness of Solution\n",
    "\n",
    "It's important to recognize that there can only be one string $s$ that works if the promise is met, so there's always a unique correct answer for functions that satisfy the promise.\n",
    "\n",
    "#### 4. Example\n",
    "\n",
    "Here's an example of a function taking the form $f: \\Sigma^3 \\to \\Sigma^5$ that satisfies the promise for the string $s = 011$.\n",
    "\n",
    "$$\\begin{align}\n",
    "f(000) &= 10011 \\\\\n",
    "f(001) &= 00101 \\\\\n",
    "f(010) &= 00101 \\\\\n",
    "f(011) &= 10011 \\\\\n",
    "f(100) &= 11010 \\\\\n",
    "f(101) &= 00001 \\\\\n",
    "f(110) &= 00001 \\\\\n",
    "f(111) &= 11010\n",
    "\\end{align}$$\n",
    "\n",
    "#### **Analysis of the Example**\n",
    "\n",
    "There are 8 different input strings and 4 different output strings, each of which occurs twice — so this is a **two-to-one function**. Moreover, for any two different input strings that produce the same output string, we see that the bitwise XOR of these two input strings is equal to $011$, which is equivalent to saying that either one of them equals the other XORed with $s$.\n",
    "\n",
    "#### **Verification**\n",
    "\n",
    "Let's verify the promise condition for this example:\n",
    "\n",
    "| Input Pair | Output | XOR of Inputs | Equals $s = 011$? |\n",
    "|------------|--------|---------------|-------------------|\n",
    "| $000, 011$ | $10011$ | $000 \\oplus 011 = 011$ | ✓ |\n",
    "| $001, 010$ | $00101$ | $001 \\oplus 010 = 011$ | ✓ |\n",
    "| $100, 111$ | $11010$ | $100 \\oplus 111 = 011$ | ✓ |\n",
    "| $101, 110$ | $00001$ | $101 \\oplus 110 = 011$ | ✓ |"
   ]
  },
  {
   "cell_type": "code",
   "execution_count": 14,
   "id": "b41f192c",
   "metadata": {},
   "outputs": [],
   "source": [
    "def simon_function(s: str):\n",
    "    # Create a QuantumCircuit implementing a query gate for Simon problem obeying the\n",
    "    # promise for the hidden string `s`\n",
    "\n",
    "    # The quantum circuit will have 2n qubits for n being the length of s\n",
    "    n = len(s)\n",
    "    qc = QuantumCircuit(2 * n)\n",
    "\n",
    "    # Define a random permutation of all n bit strings. This permutation will\n",
    "    # effectively hide the string s.\n",
    "    pi = np.random.permutation(2**n)\n",
    "\n",
    "    # Now we'll define a query gate explicitly. The idea is to first define a function\n",
    "    # g(x) = min{x,x ^ s}, which is a very simple function that satisfies the promise.\n",
    "    # (The operation ^ is the bitwise XOR.) Then we take f to be the composition of g\n",
    "    # and the random permutation pi. This gives us a random function satisfying the\n",
    "    # promise for s.\n",
    "\n",
    "    query_gate = np.zeros((4**n, 4**n))\n",
    "    for x in range(2**n):\n",
    "        for y in range(2**n):\n",
    "            z = y ^ pi[min(x, x ^ int(s, 2))]\n",
    "            query_gate[x + 2**n * z, x + 2**n * y] = 1\n",
    "    print(query_gate)\n",
    "\n",
    "    # Our circuit has just this one query gate\n",
    "    qc.unitary(query_gate, range(2 * n))\n",
    "    return qc"
   ]
  },
  {
   "cell_type": "markdown",
   "id": "8bb4bea6",
   "metadata": {},
   "source": [
    "# Simon's Oracle Implementation: Complete Analysis\n",
    "\n",
    "## Function Overview\n",
    "\n",
    "```python\n",
    "def simon_function(s: str):\n",
    "    # Creates a quantum circuit implementing Simon's oracle\n",
    "    # Input: s = hidden string (e.g., '101')\n",
    "    # Output: QuantumCircuit satisfying Simon's promise\n",
    "```\n",
    "\n",
    "## Step-by-Step Breakdown\n",
    "\n",
    "### 1. Circuit Setup\n",
    "```python\n",
    "n = len(s)\n",
    "qc = QuantumCircuit(2 * n)\n",
    "```\n",
    "\n",
    "**Purpose**: Create quantum circuit with **2n qubits**\n",
    "- **First n qubits**: Input register $|x\\rangle$\n",
    "- **Last n qubits**: Output register $|y\\rangle$\n",
    "\n",
    "**Example**: For `s = '101'` (n=3), we get 6 qubits total\n",
    "\n",
    "### 2. Random Permutation Generation\n",
    "```python\n",
    "pi = np.random.permutation(2**n)\n",
    "```\n",
    "\n",
    "**Purpose**: Create a random shuffling of output values\n",
    "- **Input**: Array $[0, 1, 2, \\ldots, 2^n-1]$\n",
    "- **Output**: Random permutation of these values\n",
    "- **Effect**: Hides the structure from classical observation\n",
    "\n",
    "**Example**: For n=3, might generate `π = [3,7,1,0,5,2,6,4]`\n",
    "\n",
    "### 3. The Clever Function Construction\n",
    "\n",
    "The algorithm constructs $f(x) = \\pi(g(x))$ where:\n",
    "$$g(x) = \\min\\{x, x \\oplus s\\}$$\n",
    "\n",
    "#### Why This Works\n",
    "\n",
    "**Mathematical Property**: For any inputs $a$ and $b$:\n",
    "$$g(a) = g(b) \\Leftrightarrow [a = b \\text{ OR } a = b \\oplus s]$$\n",
    "\n",
    "**Proof**:\n",
    "- If $a = b$: Obviously $g(a) = g(b)$ ✓\n",
    "- If $a = b \\oplus s$: Then $a \\oplus s = b$, so $\\{a, a \\oplus s\\} = \\{a, b\\} = \\{b \\oplus s, b\\}$\n",
    "  - Therefore $\\min\\{a, a \\oplus s\\} = \\min\\{b \\oplus s, b\\}$ ✓\n",
    "\n",
    "#### Example with s = '11'\n",
    "\n",
    "| x (binary) | x (decimal) | x ⊕ s | g(x) = min{x, x⊕s} |\n",
    "|------------|-------------|-------|-------------------|\n",
    "| 00 | 0 | 3 | 0 |\n",
    "| 01 | 1 | 2 | 1 |\n",
    "| 10 | 2 | 1 | 1 |\n",
    "| 11 | 3 | 0 | 0 |\n",
    "\n",
    "**Verification**:\n",
    "- $g(00) = g(11) = 0$ ✓ (since $00 \\oplus 11 = 11$)\n",
    "- $g(01) = g(10) = 1$ ✓ (since $01 \\oplus 11 = 10$)\n",
    "\n",
    "### 4. Unitary Matrix Construction\n",
    "\n",
    "```python\n",
    "query_gate = np.zeros((4**n, 4**n))\n",
    "for x in range(2**n):\n",
    "    for y in range(2**n):\n",
    "        z = y ^ pi[min(x, x ^ int(s, 2))]\n",
    "        query_gate[x + 2**n * z, x + 2**n * y] = 1\n",
    "```\n",
    "\n",
    "#### Matrix Dimensions\n",
    "- **Size**: $(4^n) \\times (4^n) = (2^{2n}) \\times (2^{2n})$\n",
    "- **Basis states**: $|xy\\rangle$ where $x,y \\in \\{0,1\\}^n$\n",
    "- **Indexing**: State $|x\\rangle|y\\rangle$ maps to index $x + 2^n \\cdot y$\n",
    "\n",
    "#### Transformation Logic\n",
    "For each basis state $|x\\rangle|y\\rangle$:\n",
    "\n",
    "1. **Compute** $g(x) = \\min\\{x, x \\oplus s\\}$\n",
    "2. **Apply permutation** $\\pi[g(x)]$\n",
    "3. **Calculate output** $z = y \\oplus \\pi[g(x)]$\n",
    "4. **Set matrix element** `query_gate[x + 2^n * z, x + 2^n * y] = 1`\n",
    "\n",
    "This implements: $U_f|x\\rangle|y\\rangle = |x\\rangle|y \\oplus f(x)\\rangle$\n",
    "\n",
    "Where $f(x) = \\pi(g(x)) = \\pi(\\min\\{x, x \\oplus s\\})$\n",
    "\n",
    "### 5. Final Circuit Assembly\n",
    "```python\n",
    "qc.unitary(query_gate, range(2 * n))\n",
    "return qc\n",
    "```\n",
    "\n",
    "**Purpose**: Convert the unitary matrix into a quantum gate and add it to the circuit."
   ]
  },
  {
   "cell_type": "code",
   "execution_count": 15,
   "id": "32d505d8",
   "metadata": {},
   "outputs": [],
   "source": [
    "from qiskit import QuantumCircuit\n",
    "from qiskit_aer import AerSimulator\n",
    "import numpy as np\n",
    "import galois"
   ]
  },
  {
   "cell_type": "code",
   "execution_count": 16,
   "id": "8ffdedaa",
   "metadata": {},
   "outputs": [],
   "source": [
    "def simon_measurements(problem: QuantumCircuit, k: int):\n",
    "    # This is the quantum part of Simon's algorithm. Given a `QuantumCircuit` that\n",
    "    # implements f, gets k measurement outcomes to be post-processed later.\n",
    "\n",
    "    n = problem.num_qubits // 2\n",
    "\n",
    "    qc = QuantumCircuit(2 * n, n)\n",
    "    qc.h(range(n))\n",
    "    qc.compose(problem, inplace=True)\n",
    "    qc.h(range(n))\n",
    "    qc.measure(range(n), range(n))\n",
    "\n",
    "    result = AerSimulator().run(qc, shots=k, memory=True).result()\n",
    "    return result.get_memory()"
   ]
  },
  {
   "cell_type": "code",
   "execution_count": 17,
   "id": "4f126e77",
   "metadata": {},
   "outputs": [],
   "source": [
    "def simon_algorithm(problem: QuantumCircuit):\n",
    "    # Given a `QuantumCircuit` that implements a query gate for Simon problem, return\n",
    "    # the hidden string `s`.\n",
    "\n",
    "    # Quantum part: run the circuit defined previously k times and gather the measurement\n",
    "    # results. Replace +10 by +r for any nonnegative integer r depending on desired\n",
    "    # confidence.\n",
    "\n",
    "    measurements = simon_measurements(problem, k=problem.num_qubits // 2 + 10)\n",
    "    print(measurements)\n",
    "\n",
    "    # Classical post-processing:\n",
    "\n",
    "    # 1. Convert measurements of form '11101' to 2D-array of integers\n",
    "    matrix = np.array([list(bitstring) for bitstring in measurements]).astype(int)\n",
    "\n",
    "    # 2. Interpret matrix as using arithmetic mod 2, and find null space\n",
    "    null_space = galois.GF(2)(matrix).null_space()\n",
    "\n",
    "    # 3. Convert back to a string\n",
    "    print(\"Guess for hidden string s: \")\n",
    "    if len(null_space) == 0:\n",
    "        # No non-trivial solution; `s` is all-zeros\n",
    "        return \"0\" * len(measurements[0])\n",
    "    return \"\".join(np.array(null_space[0]).astype(str))"
   ]
  },
  {
   "cell_type": "code",
   "execution_count": 18,
   "id": "91b66269",
   "metadata": {},
   "outputs": [
    {
     "name": "stdout",
     "output_type": "stream",
     "text": [
      "[[0. 0. 0. ... 0. 0. 0.]\n",
      " [0. 0. 0. ... 0. 0. 0.]\n",
      " [0. 0. 0. ... 0. 0. 0.]\n",
      " ...\n",
      " [0. 0. 0. ... 0. 0. 0.]\n",
      " [0. 0. 0. ... 0. 0. 0.]\n",
      " [0. 0. 0. ... 0. 0. 0.]]\n",
      "['11001', '01100', '01111', '01000', '10110', '01011', '11101', '11010', '10010', '11101', '00011', '01100', '11101', '01000', '10010']\n"
     ]
    },
    {
     "name": "stderr",
     "output_type": "stream",
     "text": [
      "OMP: Info #271: omp_set_nested routine deprecated, please use omp_set_max_active_levels instead.\n"
     ]
    },
    {
     "name": "stdout",
     "output_type": "stream",
     "text": [
      "Guess for hidden string s: \n"
     ]
    },
    {
     "data": {
      "text/plain": [
       "'10011'"
      ]
     },
     "metadata": {},
     "output_type": "display_data"
    }
   ],
   "source": [
    "display(simon_algorithm(simon_function(\"10011\")))"
   ]
  },
  {
   "cell_type": "markdown",
   "id": "de7fc708",
   "metadata": {},
   "source": [
    "## QPE"
   ]
  },
  {
   "cell_type": "markdown",
   "id": "d99c0c80",
   "metadata": {},
   "source": [
    "#### 1 bit precision"
   ]
  },
  {
   "cell_type": "code",
   "execution_count": 19,
   "id": "847bc203",
   "metadata": {},
   "outputs": [],
   "source": [
    "from qiskit import QuantumCircuit\n",
    "from qiskit_aer import AerSimulator\n",
    "import numpy as np\n",
    "from math import pi"
   ]
  },
  {
   "cell_type": "code",
   "execution_count": 20,
   "id": "f5c503d3",
   "metadata": {},
   "outputs": [],
   "source": [
    "def qpe_1bit_function(theta):\n",
    "   \"\"\"Create a 1-bit QPE oracle function\"\"\"\n",
    "   qc = QuantumCircuit(2)\n",
    "   # Controlled phase gate: if control=1, apply phase e^(2πiθ) to target\n",
    "   qc.cp(2 * pi * theta, 0, 1)\n",
    "   return qc\n",
    "\n",
    "def qpe_1bit_compile_circuit(function: QuantumCircuit):\n",
    "   \"\"\"Compile circuit for 1-bit quantum phase estimation\"\"\"\n",
    "   qc = QuantumCircuit(2, 1)\n",
    "   \n",
    "   # Prepare eigenstate |1⟩ on target qubit\n",
    "   qc.x(1)\n",
    "   \n",
    "   # Hadamard on control qubit\n",
    "   qc.h(0)\n",
    "   \n",
    "   qc.barrier()\n",
    "   qc.compose(function, inplace=True)\n",
    "   qc.barrier()\n",
    "   \n",
    "   # Hadamard on control qubit\n",
    "   qc.h(0)\n",
    "   \n",
    "   # Measure control qubit\n",
    "   qc.measure(0, 0)\n",
    "   \n",
    "   return qc\n",
    "\n",
    "def qpe_1bit_algorithm(function: QuantumCircuit):\n",
    "    \"\"\"Determine the phase θ with 1-bit precision\"\"\"\n",
    "    qc = qpe_1bit_compile_circuit(function)\n",
    "    \n",
    "    result = AerSimulator().run(qc, shots=1000, memory=True).result()\n",
    "    measurements = result.get_memory()\n",
    "    \n",
    "    count_0 = measurements.count('0')\n",
    "    count_1 = measurements.count('1')\n",
    "    \n",
    "    print(f\"Measured '0': {count_0} times\")\n",
    "    print(f\"Measured '1': {count_1} times\")\n",
    "    \n",
    "    if count_0 > count_1:\n",
    "        return \"0.0\"  # θ closer to 0 (or 1 due to periodicity)\n",
    "    return \"0.5\""
   ]
  },
  {
   "cell_type": "code",
   "execution_count": 21,
   "id": "3fca0199",
   "metadata": {},
   "outputs": [
    {
     "data": {
      "image/png": "[encoded data removed]",
      "text/plain": [
       "<Figure size 705.35x284.278 with 1 Axes>"
      ]
     },
     "metadata": {},
     "output_type": "display_data"
    }
   ],
   "source": [
    "display(qpe_1bit_compile_circuit(qpe_1bit_function(0.2)).draw(output=\"mpl\"))"
   ]
  },
  {
   "cell_type": "code",
   "execution_count": 22,
   "id": "2ab059af",
   "metadata": {},
   "outputs": [
    {
     "name": "stdout",
     "output_type": "stream",
     "text": [
      "Measured '0': 652 times\n",
      "Measured '1': 348 times\n"
     ]
    },
    {
     "data": {
      "text/plain": [
       "'0.0'"
      ]
     },
     "metadata": {},
     "output_type": "display_data"
    }
   ],
   "source": [
    "display(qpe_1bit_algorithm(qpe_1bit_function(0.8)))"
   ]
  },
  {
   "cell_type": "markdown",
   "id": "b338b251",
   "metadata": {},
   "source": [
    "#### 2 bits precision"
   ]
  },
  {
   "cell_type": "code",
   "execution_count": 28,
   "id": "e408ea5e",
   "metadata": {},
   "outputs": [],
   "source": [
    "def qpe_2bit_function(theta):\n",
    "    \"\"\"Create a 2-bit QPE oracle function\"\"\"\n",
    "    qc = QuantumCircuit(3)\n",
    "    # Apply controlled-U^1 and controlled-U^2\n",
    "    qc.cp(2 * pi * theta, 0, 2)        # U^1\n",
    "    qc.cp(2 * pi * theta * 2, 1, 2)    # U^2\n",
    "    return qc\n",
    "\n",
    "def qpe_2bit_compile_circuit(function: QuantumCircuit):\n",
    "    \"\"\"Compile circuit for 2-bit quantum phase estimation\"\"\"\n",
    "    qc = QuantumCircuit(3, 2)\n",
    "    \n",
    "    # Prepare eigenstate |1⟩ on target qubit\n",
    "    qc.x(2)\n",
    "    \n",
    "    # Hadamard on control qubits\n",
    "    qc.h([0, 1])\n",
    "    \n",
    "    qc.barrier()\n",
    "    qc.compose(function, inplace=True)\n",
    "    qc.barrier()\n",
    "    \n",
    "    # Inverse QFT on control qubits\n",
    "    qc.h(1)\n",
    "    qc.cp(-pi/2, 0, 1)\n",
    "    qc.h(0)\n",
    "    qc.swap(0, 1)\n",
    "    \n",
    "    # Measure control qubits\n",
    "    qc.measure([0, 1], [0, 1])\n",
    "    \n",
    "    return qc\n",
    "\n",
    "def qpe_2bit_algorithm(function: QuantumCircuit):\n",
    "    \"\"\"Determine the phase θ with 2-bit precision\"\"\"\n",
    "    qc = qpe_2bit_compile_circuit(function)\n",
    "    \n",
    "    result = AerSimulator().run(qc, shots=1000).result()\n",
    "    counts = result.get_counts()\n",
    "    print(counts)\n",
    "    \n",
    "    # Find most frequent measurement\n",
    "    best_result = max(counts.items(), key=lambda x: x[1])\n",
    "    best_bitstring = best_result[0]\n",
    "    \n",
    "    # Convert binary to decimal phase\n",
    "    phase_estimate = int(best_bitstring, 2) / 4\n",
    "    return f\"{phase_estimate:.3f}\""
   ]
  },
  {
   "cell_type": "code",
   "execution_count": 31,
   "id": "f0a4ef16",
   "metadata": {},
   "outputs": [
    {
     "data": {
      "image/png": "[encoded data removed]",
      "text/plain": [
       "<Figure size 1290.83x367.889 with 1 Axes>"
      ]
     },
     "metadata": {},
     "output_type": "display_data"
    },
    {
     "name": "stdout",
     "output_type": "stream",
     "text": [
      "{'01': 26, '10': 26, '00': 55, '11': 893}\n"
     ]
    },
    {
     "data": {
      "text/plain": [
       "'0.750'"
      ]
     },
     "metadata": {},
     "output_type": "display_data"
    }
   ],
   "source": [
    "display(qpe_2bit_compile_circuit(qpe_2bit_function(0.8)).draw(output=\"mpl\"))\n",
    "display(qpe_2bit_algorithm(qpe_2bit_function(0.8)))"
   ]
  },
  {
   "cell_type": "markdown",
   "id": "6ce08230",
   "metadata": {},
   "source": [
    "#### Quantum Fourier Transform (QFT)\n",
    "\n",
    "The Quantum Fourier Transform is one of the most important quantum algorithms, forming the basis for many quantum algorithms including phase estimation and Shor's factoring algorithm.\n",
    "\n",
    "**Mathematical Definition**\n",
    "\n",
    "The QFT is defined using the primitive N-th root of unity:\n",
    "\n",
    "$$\\omega_N = e^{2\\pi i/N} = \\cos(2\\pi/N) + i\\sin(2\\pi/N)$$\n",
    "\n",
    "This represents a point on the unit circle at angle 2π/N radians."
   ]
  },
  {
   "cell_type": "code",
   "execution_count": 32,
   "id": "5201083f",
   "metadata": {},
   "outputs": [
    {
     "name": "stdout",
     "output_type": "stream",
     "text": [
      "Examples of ω_N:\n",
      "ω_1 = 1.000-0.000j\n",
      "ω_2 = -1.000+0.000j\n",
      "ω_3 = -0.500+0.866j\n",
      "ω_4 = 0.000+1.000j\n",
      "ω_8 = 0.707+0.707j\n",
      "ω_16 = 0.924+0.383j\n",
      "ω_100 = 0.998+0.063j\n"
     ]
    }
   ],
   "source": [
    "import numpy as np\n",
    "import matplotlib.pyplot as plt\n",
    "from qiskit import QuantumCircuit\n",
    "from qiskit_aer import AerSimulator\n",
    "from math import pi, cos, sin, sqrt\n",
    "\n",
    "def omega_n(N):\n",
    "    \"\"\"Calculate the primitive N-th root of unity\"\"\"\n",
    "    return np.exp(2j * pi / N)\n",
    "\n",
    "def show_omega_examples():\n",
    "    \"\"\"Show examples of omega_N for different values of N\"\"\"\n",
    "    print(\"Examples of ω_N:\")\n",
    "    \n",
    "    examples = [1, 2, 3, 4, 8, 16, 100]\n",
    "    for N in examples:\n",
    "        w = omega_n(N)\n",
    "        print(f\"ω_{N} = {w:.3f}\")\n",
    "    \n",
    "show_omega_examples()"
   ]
  },
  {
   "cell_type": "code",
   "execution_count": 33,
   "id": "b84356af",
   "metadata": {},
   "outputs": [
    {
     "name": "stdout",
     "output_type": "stream",
     "text": [
      "\n",
      "QFT_1:\n",
      "[[1.+0.j]]\n",
      "Is unitary: True\n",
      "\n",
      "QFT_2:\n",
      "[[ 0.707+0.j  0.707+0.j]\n",
      " [ 0.707+0.j -0.707+0.j]]\n",
      "Is unitary: True\n",
      "\n",
      "QFT_3:\n",
      "[[ 0.577+0.j   0.577+0.j   0.577+0.j ]\n",
      " [ 0.577+0.j  -0.289+0.5j -0.289-0.5j]\n",
      " [ 0.577+0.j  -0.289-0.5j -0.289+0.5j]]\n",
      "Is unitary: True\n",
      "\n",
      "QFT_4:\n",
      "[[ 0.5+0.j   0.5+0.j   0.5+0.j   0.5+0.j ]\n",
      " [ 0.5+0.j   0. +0.5j -0.5+0.j  -0. -0.5j]\n",
      " [ 0.5+0.j  -0.5+0.j   0.5-0.j  -0.5+0.j ]\n",
      " [ 0.5+0.j  -0. -0.5j -0.5+0.j   0. +0.5j]]\n",
      "Is unitary: True\n"
     ]
    }
   ],
   "source": [
    "def create_qft_matrix(N):\n",
    "    \"\"\"Create the N-dimensional QFT matrix\"\"\"\n",
    "    omega = omega_n(N)\n",
    "    matrix = np.zeros((N, N), dtype=complex)\n",
    "    \n",
    "    for x in range(N):\n",
    "        for y in range(N):\n",
    "            matrix[x, y] = (omega ** (x * y)) / sqrt(N)\n",
    "    \n",
    "    return matrix\n",
    "\n",
    "def show_small_qft_matrices():\n",
    "    \"\"\"Display QFT matrices for small dimensions\"\"\"\n",
    "    for N in [1, 2, 3, 4]:\n",
    "        print(f\"\\nQFT_{N}:\")\n",
    "        qft_matrix = create_qft_matrix(N)\n",
    "        \n",
    "        # Round for cleaner display\n",
    "        qft_rounded = np.round(qft_matrix, 3)\n",
    "        print(qft_rounded)\n",
    "        \n",
    "        # Verify it's unitary\n",
    "        should_be_identity = qft_matrix @ qft_matrix.conj().T\n",
    "        is_unitary = np.allclose(should_be_identity, np.eye(N))\n",
    "        print(f\"Is unitary: {is_unitary}\")\n",
    "\n",
    "show_small_qft_matrices()"
   ]
  },
  {
   "cell_type": "markdown",
   "id": "dd133d37",
   "metadata": {},
   "source": [
    "#### QFT Circuit Implementation\n",
    "\n",
    "For N = 2^m, we can implement QFT efficiently with a quantum circuit using O(m²) gates."
   ]
  },
  {
   "cell_type": "code",
   "execution_count": null,
   "id": "ed38d80a",
   "metadata": {},
   "outputs": [],
   "source": [
    "def qft_circuit(n_qubits):\n",
    "    \"\"\"Create QFT circuit for n qubits\"\"\"\n",
    "    qc = QuantumCircuit(n_qubits)\n",
    "    \n",
    "    for i in range(n_qubits):\n",
    "        # Apply Hadamard to qubit i\n",
    "        qc.h(i)\n",
    "        \n",
    "        # Apply controlled rotations\n",
    "        for j in range(i + 1, n_qubits):\n",
    "            angle = pi / (2 ** (j - i))\n",
    "            qc.cp(angle, j, i)\n",
    "    \n",
    "    # Reverse the order of qubits (swap)\n",
    "    for i in range(n_qubits // 2):\n",
    "        qc.swap(i, n_qubits - 1 - i)\n",
    "    \n",
    "    return qc\n",
    "\n",
    "def inverse_qft_circuit(n_qubits):\n",
    "    \"\"\"Create inverse QFT circuit for n qubits\"\"\"\n",
    "    qc = QuantumCircuit(n_qubits)\n",
    "    \n",
    "    # Reverse the swaps first\n",
    "    for i in range(n_qubits // 2):\n",
    "        qc.swap(i, n_qubits - 1 - i)\n",
    "    \n",
    "    # Apply inverse operations in reverse order\n",
    "    for i in range(n_qubits - 1, -1, -1):\n",
    "        # Apply controlled rotations with negative angles\n",
    "        for j in range(n_qubits - 1, i, -1):\n",
    "            angle = -pi / (2 ** (j - i))\n",
    "            qc.cp(angle, j, i)\n",
    "        \n",
    "        # Apply Hadamard to qubit i\n",
    "        qc.h(i)\n",
    "    \n",
    "    return qc"
   ]
  },
  {
   "cell_type": "code",
   "execution_count": 41,
   "id": "c82331be",
   "metadata": {},
   "outputs": [],
   "source": [
    "def create_qft_matrix(n_qubits):\n",
    "    \"\"\"Create manual QFT matrix for n qubits\"\"\"\n",
    "    N = 2 ** n_qubits\n",
    "    omega = np.exp(2j * pi / N)\n",
    "    \n",
    "    matrix = np.zeros((N, N), dtype=complex)\n",
    "    for x in range(N):\n",
    "        for y in range(N):\n",
    "            matrix[x, y] = (omega ** (x * y)) / sqrt(N)\n",
    "    \n",
    "    return matrix\n",
    "\n",
    "def qpe_manual_qft_function(theta, n_precision=3):\n",
    "    \"\"\"Create QPE oracle function\"\"\"\n",
    "    qc = QuantumCircuit(n_precision + 1)\n",
    "    \n",
    "    # Apply controlled-U^(2^j) operations\n",
    "    for j in range(n_precision):\n",
    "        power = 2 ** j\n",
    "        phase = 2 * pi * theta * power\n",
    "        qc.cp(phase, j, n_precision)\n",
    "    \n",
    "    return qc\n",
    "\n",
    "def qpe_manual_qft_compile_circuit(function: QuantumCircuit):\n",
    "    \"\"\"Compile QPE circuit using manual QFT matrix\"\"\"\n",
    "    n_precision = function.num_qubits - 1\n",
    "    n_total = function.num_qubits\n",
    "    qc = QuantumCircuit(n_total, n_precision)\n",
    "    \n",
    "    # Prepare eigenstate |1⟩ on target qubit\n",
    "    qc.x(n_precision)\n",
    "    \n",
    "    # Create superposition on precision qubits\n",
    "    qc.h(range(n_precision))\n",
    "    \n",
    "    qc.barrier()\n",
    "    qc.compose(function, inplace=True)\n",
    "    qc.barrier()\n",
    "    \n",
    "    # Apply inverse QFT using manual matrix\n",
    "    inverse_qft_matrix = create_qft_matrix(n_precision).conj().T\n",
    "    qc.unitary(inverse_qft_matrix, range(n_precision), label='IQFT')\n",
    "    \n",
    "    # Measure precision qubits\n",
    "    qc.measure(range(n_precision), range(n_precision))\n",
    "    \n",
    "    return qc\n",
    "\n",
    "def qpe_manual_qft_algorithm(function: QuantumCircuit):\n",
    "    \"\"\"QPE algorithm using manual QFT matrix\"\"\"\n",
    "    qc = qpe_manual_qft_compile_circuit(function)\n",
    "    \n",
    "    result = AerSimulator().run(qc, shots=1000).result()\n",
    "    counts = result.get_counts()\n",
    "    \n",
    "    print(\"Measurement counts:\")\n",
    "    for bitstring, count in sorted(counts.items()):\n",
    "        prob = count / 1000\n",
    "        n_precision = len(bitstring)\n",
    "        estimate = int(bitstring, 2) / (2 ** n_precision)\n",
    "        print(f\"  {bitstring}: {count:3d} ({prob:.3f}) → θ = {estimate:.3f}\")\n",
    "    \n",
    "    # Find most frequent measurement\n",
    "    best_result = max(counts.items(), key=lambda x: x[1])\n",
    "    best_bitstring = best_result[0]\n",
    "    \n",
    "    n_precision = len(best_bitstring)\n",
    "    phase_estimate = int(best_bitstring, 2) / (2 ** n_precision)\n",
    "    \n",
    "    return f\"{phase_estimate:.3f}\""
   ]
  },
  {
   "cell_type": "code",
   "execution_count": 44,
   "id": "4c28e638",
   "metadata": {},
   "outputs": [
    {
     "data": {
      "image/png": "[encoded data removed]",
      "text/plain": [
       "<Figure size 1959.72x702.333 with 1 Axes>"
      ]
     },
     "metadata": {},
     "output_type": "display_data"
    },
    {
     "name": "stdout",
     "output_type": "stream",
     "text": [
      "Measurement counts:\n",
      "  000100:   1 (0.001) → θ = 0.062\n",
      "  000111:   1 (0.001) → θ = 0.109\n",
      "  001000:   1 (0.001) → θ = 0.125\n",
      "  001010:   1 (0.001) → θ = 0.156\n",
      "  001100:   2 (0.002) → θ = 0.188\n",
      "  001101:   1 (0.001) → θ = 0.203\n",
      "  001110:   1 (0.001) → θ = 0.219\n",
      "  001111:   3 (0.003) → θ = 0.234\n",
      "  010000:   3 (0.003) → θ = 0.250\n",
      "  010001:   5 (0.005) → θ = 0.266\n",
      "  010010:  24 (0.024) → θ = 0.281\n",
      "  010011: 883 (0.883) → θ = 0.297\n",
      "  010100:  50 (0.050) → θ = 0.312\n",
      "  010101:   8 (0.008) → θ = 0.328\n",
      "  010110:   7 (0.007) → θ = 0.344\n",
      "  010111:   4 (0.004) → θ = 0.359\n",
      "  011000:   3 (0.003) → θ = 0.375\n",
      "  100010:   1 (0.001) → θ = 0.531\n",
      "  101000:   1 (0.001) → θ = 0.625\n"
     ]
    },
    {
     "data": {
      "text/plain": [
       "'0.297'"
      ]
     },
     "metadata": {},
     "output_type": "display_data"
    }
   ],
   "source": [
    "theta = 0.3\n",
    "display(qpe_manual_qft_compile_circuit(qpe_manual_qft_function(theta, n_precision=6)).draw(output=\"mpl\"))\n",
    "display(qpe_manual_qft_algorithm(qpe_manual_qft_function(theta, n_precision=6)))"
   ]
  }
 ],
 "metadata": {
  "kernelspec": {
   "display_name": "Quantum computing",
   "language": "python",
   "name": "python3"
  },
  "language_info": {
   "codemirror_mode": {
    "name": "ipython",
    "version": 3
   },
   "file_extension": ".py",
   "mimetype": "text/x-python",
   "name": "python",
   "nbconvert_exporter": "python",
   "pygments_lexer": "ipython3",
   "version": "3.9.0"
  }
 },
 "nbformat": 4,
 "nbformat_minor": 5
}
