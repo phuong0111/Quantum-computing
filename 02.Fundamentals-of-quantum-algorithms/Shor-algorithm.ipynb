{
  "cells": [
    {
      "cell_type": "markdown",
      "metadata": {
        "id": "nQE-3gffBxVm"
      },
      "source": [
        "# **Assigment $|02\\rangle$ 🔐 Shor's Algorithm 🔐** &nbsp;[![Open In Colab](https://colab.research.google.com/assets/colab-badge.svg)](https://colab.research.google.com/github/18520339/uts-quantum-computing/blob/main/assignment2_shor_algorithm/shor_algorithm.ipynb)\n",
        "\n",
        "[![image](https://github.com/18520339/uts-quantum-computing/assets/50880271/e0588281-1148-4acb-a4cd-54fecd46c2ce)](https://rand.cs.uchicago.edu/publication/peng-2022-shor/)"
      ]
    },
    {
      "cell_type": "code",
      "execution_count": 1,
      "metadata": {},
      "outputs": [
        {
          "data": {
            "text/html": [
              "\n",
              "        <iframe\n",
              "            width=\"858\"\n",
              "            height=\"540\"\n",
              "            src=\"https://www.youtube.com/embed/BYKc2RnQMqo\"\n",
              "            frameborder=\"0\"\n",
              "            allowfullscreen\n",
              "            \n",
              "        ></iframe>\n",
              "        "
            ],
            "text/plain": [
              "<IPython.lib.display.YouTubeVideo at 0x7fa920d7f1c0>"
            ]
          },
          "execution_count": 1,
          "metadata": {},
          "output_type": "execute_result"
        }
      ],
      "source": [
        "from IPython.display import YouTubeVideo\n",
        "YouTubeVideo('BYKc2RnQMqo', width=858, height=540)"
      ]
    },
    {
      "cell_type": "markdown",
      "metadata": {
        "id": "aPieNzTlfiTt"
      },
      "source": [
        "**Shor's algorithm** can be divided into 2 main parts:\n",
        "1. **Classical Part**: This involves reducing the problem of factorizing an integer $N$ to the problem of finding the period $r$ of a specific function.\n",
        "2. **Quantum Part**:\n",
        "- This involves using a quantum computer to **find the period $r$** efficiently. The algorithm creates a superposition of states to encode information about the period into the quantum state.\n",
        "- The **Quantum Fourier Transform (QFT)** is applied to the quantum state to extract the period $r$:\n",
        "\n",
        "    $$\\left| \\tilde{x} \\right\\rangle = QFT_N \\vert x \\rangle = \\frac{1}{\\sqrt{N}} \\sum_{k=0}^{N-1}  e^{2\\pi i \\frac{xk}{N}} \\vert k \\rangle$$\n",
        "    $$\\text{where N = number of qubits; } \\vert k \\rangle = \\vert k_1 k_2 \\cdots k_n \\rangle (\\text{binary qubit state })$$\n",
        "\n",
        " - It is a series of **Hadamard** and **Controlled Phase Rotation** gates to the output state of the **Modular Exponentiation** circuit. This transforms the state into a form where measuring the qubits can yield the period $r$ (just a change of basis).\n",
        " - This **Modular Exponentiation** is crucial for creating the periodic function. It involves applying a series of **controlled-U** gates, where $U$ represents modular multiplication.\n",
        "\n",
        "**The steps are as follows**:\n",
        "1. **Choose a Random Number $a$**: Select a random integer $a$ such that $1 < a < N$.\n",
        "2. **Check if $N$ is valid**: If $N$ is even or a prime number or a power of a prime number, then $N$ is not valid for factorization.\n",
        "3. **Compute the Greatest Common Divisor (GCD)**: Compute $\\text{gcd}(a, N)$. If $\\text{gcd}(a, N) \\neq 1$, then $\\text{gcd}(a, N)$ is a non-trivial factor of $N$.\n",
        "4. **Quantum Period Finding**: Use a quantum computer to **find the period $r$** of the function $f(x) = a^x \\mod N$.\n",
        "5. **Check the Period**: If $r$ is even and $a^{r/2} \\pm 1$ is not a multiple of $N$, then compute $\\text{gcd}(a^{r/2} \\pm 1, N)$ to obtain the factors of $N$.\n",
        "\n",
        "👉 If the above steps do not yield factors, repeat the process with a different $a$."
      ]
    },
    {
      "cell_type": "code",
      "execution_count": 2,
      "metadata": {
        "cellView": "form",
        "id": "s_bn4OMbCswD"
      },
      "outputs": [
        {
          "name": "stderr",
          "output_type": "stream",
          "text": [
            "/var/folders/p8/wytng6t53dl_gcrnlz01_zn00000gn/T/ipykernel_85415/649422978.py:2: DeprecationWarning: Using Qiskit with Python 3.9 is deprecated as of the 2.1.0 release. Support for running Qiskit with Python 3.9 will be removed in the 2.3.0 release, which coincides with when Python 3.9 goes end of life.\n",
            "  from qiskit import QuantumCircuit, transpile\n"
          ]
        }
      ],
      "source": [
        "# @markdown ### **1. Import `Qiskit` and essential packages** { display-mode: \"form\" }\n",
        "from qiskit import QuantumCircuit, transpile\n",
        "from qiskit.circuit.library import QFT\n",
        "from qiskit_aer import AerSimulator\n",
        "\n",
        "from fractions import Fraction\n",
        "import random\n",
        "import sympy\n",
        "import math"
      ]
    },
    {
      "cell_type": "code",
      "execution_count": 3,
      "metadata": {
        "cellView": "form",
        "id": "TfS2XoGuBATI"
      },
      "outputs": [],
      "source": [
        "# @markdown ### **2. Controlled Modular Multiplication for $U(x) = a^x mod N$** { display-mode: \"form\" }\n",
        "class CtrlMultCircuit(QuantumCircuit):\n",
        "    def __init__(self, a, binary_power, N):\n",
        "        super().__init__(N.bit_length())\n",
        "        self.a = a\n",
        "        self.power = 2 ** binary_power # Convert binary to decimal\n",
        "        self.N = N\n",
        "        self.name = f'{self.a}^{self.power} mod {self.N}'\n",
        "        self._create_circuit()\n",
        "\n",
        "    def _create_circuit(self):\n",
        "        for dec_power in range(self.power):\n",
        "            a_exp = self.a ** dec_power % self.N\n",
        "            for i in range(self.num_qubits):\n",
        "                if a_exp >> i & 1: self.x(i)\n",
        "                for j in range(i + 1, self.num_qubits):\n",
        "                    if a_exp >> j & 1: self.swap(i, j)"
      ]
    },
    {
      "cell_type": "code",
      "execution_count": 4,
      "metadata": {},
      "outputs": [
        {
          "name": "stdout",
          "output_type": "stream",
          "text": [
            "output 27\n"
          ]
        }
      ],
      "source": [
        "a=3\n",
        "binary_power=3\n",
        "N=17\n",
        "c_mul_qc = CtrlMultCircuit(a=a,binary_power=binary_power,N=N)\n",
        "qc = QuantumCircuit(c_mul_qc.num_qubits)\n",
        "qc.x([0, 1, 3, 4])\n",
        "qc.compose(c_mul_qc)\n",
        "qc.measure_all()\n",
        "result = AerSimulator().run(qc, shots=10, memory=True).result().get_memory()[0]\n",
        "result = int(result, 2)\n",
        "print(f\"output {result}\")\n",
        "    "
      ]
    },
    {
      "cell_type": "code",
      "execution_count": 5,
      "metadata": {},
      "outputs": [
        {
          "data": {
            "image/png": "[encoded data removed]",
            "text/plain": [
              "<Figure size 2210.55x953.167 with 1 Axes>"
            ]
          },
          "metadata": {},
          "output_type": "display_data"
        }
      ],
      "source": [
        "display(c_mul_qc.draw(\"mpl\"))"
      ]
    },
    {
      "cell_type": "code",
      "execution_count": 6,
      "metadata": {
        "cellView": "form",
        "id": "lTDB8evCV0ni"
      },
      "outputs": [],
      "source": [
        "# @markdown ### **3. Quantum Phase Estimation with `Modular Exponentiation` and `Quantum Fourier Transform` to find period $r$** { display-mode: \"form\" }\n",
        "# @markdown ![](https://reneroliveira.github.io/quantum-shors-algorithm/images/shor_circuit.png)\n",
        "\n",
        "class QPECircuit(QuantumCircuit):\n",
        "    def __init__(self, a, N):\n",
        "        super().__init__(2 * N.bit_length(), N.bit_length())\n",
        "        self.a = a\n",
        "        self.N = N\n",
        "        self._create_circuit()\n",
        "\n",
        "    def _modular_exponentiation(self):\n",
        "        for qbit_idx in range(self.num_qubits // 2):\n",
        "            self.append(\n",
        "                CtrlMultCircuit(self.a, qbit_idx, self.N).to_gate().control(),\n",
        "                [qbit_idx] + list(range(self.num_qubits // 2, 2 * self.num_qubits // 2))\n",
        "            )\n",
        "\n",
        "    def _create_circuit(self):\n",
        "        self.h(range(self.num_qubits // 2)) # Apply Hadamard gates to the first n qubits\n",
        "        self.x(self.num_qubits - 1)\n",
        "        self.barrier()\n",
        "\n",
        "        self._modular_exponentiation() # Apply controlled modular exponentiation\n",
        "        self.barrier()\n",
        "        self.append(\n",
        "            QFT(self.num_qubits // 2, inverse=True),\n",
        "            range(self.num_qubits // 2) # Apply inverse QFT to the first n qubits\n",
        "        )\n",
        "\n",
        "    def collapse(self, simulator):\n",
        "        self.measure(range(self.num_qubits // 2), range(self.num_qubits // 2))\n",
        "        transpiled_circuit = transpile(self, simulator)\n",
        "        self.collapse_result = simulator.run(transpiled_circuit, memory=True).result()\n",
        "        return self.collapse_result"
      ]
    },
    {
      "cell_type": "markdown",
      "metadata": {
        "id": "9VNFVz61mFrT"
      },
      "source": [
        "This is at the heart of Shor's algorithm. It estimates the **eigenvalue** corresponding to an **eigenstate** of a **unitary operator**. In this case, I use it to estimate the phase $\\phi$ related to the order $r$.\n",
        "\n",
        "1. **Initialize qubits**: I start with an equal superposition of all possible states.\n",
        "2. **Apply controlled-unitary operations**: These operations encode the **Modular Exponentiation** into the qubits.\n",
        "3. **Inverse QFT**: Apply the inverse $QFT^{-1} = \\frac{1}{\\sqrt{2^n}} \\sum_{j,k=0}^{2^n-1} e^{-2\\pi i jk / 2^n} |j\\rangle \\langle k|$ to the qubits to extract the phase information."
      ]
    },
    {
      "cell_type": "code",
      "execution_count": 7,
      "metadata": {
        "cellView": "form",
        "id": "BRzKIInVBATI"
      },
      "outputs": [],
      "source": [
        "# @markdown ### **4. Completed Shor's Algorithm for Integer Factorization** { display-mode: \"form\" }\n",
        "class ShorAlgorithm:\n",
        "    def __init__(self, N, max_attempts=-1, random_coprime_only=False, simulator=None):\n",
        "        self.N = N\n",
        "        self.simulator = simulator\n",
        "        self.max_attempts = max_attempts # -1 for all possible values of a\n",
        "        self.random_coprime_only = random_coprime_only # True to select only coprime values of a and N\n",
        "\n",
        "\n",
        "    def execute(self):\n",
        "        is_N_invalid = self._is_N_invalid()\n",
        "        if is_N_invalid: return is_N_invalid\n",
        "        \n",
        "        # Only coprime values remain if random_coprime_only is enabled, \n",
        "        # Otherwise select a random integer in [2, N) as initial guess\n",
        "        a_values = [a for a in range(2, self.N) if not self.random_coprime_only or (math.gcd(a, self.N) == 1)]\n",
        "        print(f'[INFO] {len(a_values)} possible values of a: {a_values}')\n",
        "        self.max_attempts = len(a_values) if self.max_attempts <= -1 else min(self.max_attempts, len(a_values))\n",
        "        attempts_count = 0\n",
        "\n",
        "        while attempts_count < self.max_attempts:\n",
        "            print(f'\\n===== Attempt {attempts_count + 1}/{self.max_attempts} =====')\n",
        "            attempts_count += 1\n",
        "            self.chosen_a = random.choice(a_values)\n",
        "            self.r = 1\n",
        "\n",
        "            print(f'[START] Chosen base a: {self.chosen_a}')\n",
        "            if not self.random_coprime_only:\n",
        "                gcd = math.gcd(self.chosen_a, self.N)\n",
        "                if gcd != 1:\n",
        "                    print(f'=> {self.chosen_a} and {self.N} share common factor: {self.N} = {gcd} * {self.N // gcd}')\n",
        "                    return gcd, self.N // gcd\n",
        "\n",
        "            print(f'>>> {self.chosen_a} and {self.N} are coprime => Perform Quantum Phase Estimation to find {self.chosen_a}^r - 1 = 0 (MOD {self.N})')\n",
        "            if not self._quantum_period_finding():\n",
        "                a_values.remove(self.chosen_a)\n",
        "                self.r = self.chosen_a = self.qpe_circuit = None\n",
        "                continue\n",
        "\n",
        "            factors = self._classical_postprocess()\n",
        "            if factors: return factors\n",
        "            a_values.remove(self.chosen_a)\n",
        "            self.r = self.chosen_a = self.qpe_circuit = None\n",
        "        print(f'[FAIL] No non-trivial factors found after {self.max_attempts} attempts.')\n",
        "\n",
        "\n",
        "    def _is_N_invalid(self):\n",
        "        if self.N <= 3:\n",
        "            print('[ERR] N must be > 3')\n",
        "            return 1, self.N\n",
        "\n",
        "        if self.N % 2 == 0:\n",
        "            print(f'=> {self.N} is an even number: {self.N} = 2 * {self.N // 2}')\n",
        "            return 2, self.N // 2\n",
        "        \n",
        "        if sympy.isprime(self.N):\n",
        "            print(f'=> {self.N} is a prime number: {self.N} = 1 * {self.N}')\n",
        "            return 1, self.N\n",
        "        \n",
        "        max_exponent = int(math.log2(self.N)) # Start with a large exponent and reduce\n",
        "        for k in range(max_exponent, 1, -1):\n",
        "            p = round(self.N ** (1 / k))\n",
        "            if p ** k == self.N: \n",
        "                print(f'=> {self.N} is a power of prime: {self.N} = {p}^{k}')\n",
        "                return p, k\n",
        "        return False\n",
        "    \n",
        "    \n",
        "    def _quantum_period_finding(self):\n",
        "        while self.chosen_a ** self.r % self.N != 1: # QPE + continued fractions may find wrong r\n",
        "            self.qpe_circuit = QPECircuit(self.chosen_a, self.N) # Find phase s/r\n",
        "            result = self.qpe_circuit.collapse(self.simulator)\n",
        "            state_bin = result.get_memory()[0]\n",
        "            state_dec = int(state_bin, 2) # Convert to decimal\n",
        "            bits_count = 2 ** (self.N.bit_length() - 1)\n",
        "            phase = state_dec / bits_count\n",
        "\n",
        "            # Continued fraction to find r\n",
        "            self.r = Fraction(phase).limit_denominator(self.N).denominator # Get fraction that most closely approximates phase\n",
        "            if self.r > self.N or self.r == 1: # Safety check to avoid infinite loops\n",
        "                print(f'[ERR] Invalid period found: r = {self.r} => Retry with different a.')\n",
        "                return False\n",
        "\n",
        "        print(f'>>> Output State: |{state_bin}⟩ = {state_dec} (dec) => Phase = {state_dec} / {bits_count} = {phase:.3f}')\n",
        "        return True\n",
        "\n",
        "\n",
        "    def _classical_postprocess(self):\n",
        "        # Classical postprocessing to find factors from the period\n",
        "        print(f'>>> Found r = {self.r} => a^{{r/2}} ± 1 = {self.chosen_a:.0f}^{self.r/2:.0f} ± 1')\n",
        "\n",
        "        if self.r % 2 != 0:\n",
        "            print(f'[ERR] r = {self.r} is odd => Retry with different a.')\n",
        "            return None\n",
        "\n",
        "        int1, int2 = self.chosen_a ** (self.r // 2) - 1, self.chosen_a ** (self.r // 2) + 1\n",
        "        if int1 % self.N == 0 or int2 % self.N == 0:\n",
        "            print(f'[ERR] {self.chosen_a}^{self.r/2:.0f} ± 1 is a multiple of {self.N} => Retry with different a.')\n",
        "            return None\n",
        "\n",
        "        factor1, factor2 = math.gcd(int1, self.N), math.gcd(int2, self.N)\n",
        "        if factor1 not in [1, self.N] and factor2 not in [1, self.N]: # Check to see if factor is non-trivial\n",
        "            print(f'[DONE] Successfully found non-trivial factors: {self.N} = {factor1} * {factor2}')\n",
        "            return factor1, factor2\n",
        "\n",
        "        print(f'[FAIL] Trivial factors found: [1, {self.N}] => Retry with different a.')\n",
        "        return None"
      ]
    },
    {
      "cell_type": "markdown",
      "metadata": {
        "id": "xDVtd62PmxMu"
      },
      "source": [
        "By measuring the state after applying the **inverse QFT**, I obtain the phase $\\phi$, from which I can deduce the order $r$: $\\phi = \\frac{s}{r} \\implies r \\approx \\frac{1}{\\phi}$\n",
        "\n",
        "The continued fraction representation of a rational number $\\frac{p}{q}$ helps in extracting the period $r$ from the phase $\\frac{s}{r}$.\n",
        "\n",
        "$$\\frac{p}{q} = a_0 + \\cfrac{1}{a_1 + \\cfrac{1}{a_2 + \\cfrac{1}{\\ddots + \\cfrac{1}{a_n}}}}$$\n",
        "\n",
        "Using the order $r$, I apply **classical postprocessing** to find the factors of $N$. If $r$ is even and $x^{r/2} \\neq \\pm 1 \\text{ (mod N)}$, then the factors are given by: $\\gcd(x^{r/2} \\pm 1, N)$."
      ]
    },
    {
      "cell_type": "code",
      "execution_count": 8,
      "metadata": {
        "cellView": "form",
        "colab": {
          "base_uri": "https://localhost:8080/",
          "height": 1000
        },
        "id": "8mprSlwHBATJ",
        "outputId": "47c3b3e5-b439-469b-e59e-7107b29ce25b"
      },
      "outputs": [
        {
          "name": "stdout",
          "output_type": "stream",
          "text": [
            "[INFO] 43 possible values of a: [2, 3, 4, 5, 6, 7, 8, 9, 10, 11, 12, 13, 14, 15, 16, 17, 18, 19, 20, 21, 22, 23, 24, 25, 26, 27, 28, 29, 30, 31, 32, 33, 34, 35, 36, 37, 38, 39, 40, 41, 42, 43, 44]\n",
            "\n",
            "===== Attempt 1/43 =====\n",
            "[START] Chosen base a: 8\n",
            ">>> 8 and 45 are coprime => Perform Quantum Phase Estimation to find 8^r - 1 = 0 (MOD 45)\n",
            ">>> Output State: |011100⟩ = 28 (dec) => Phase = 28 / 32 = 0.875\n",
            ">>> Found r = 8 => a^{r/2} ± 1 = 8^4 ± 1\n",
            "[ERR] 8^4 ± 1 is a multiple of 45 => Retry with different a.\n",
            "\n",
            "===== Attempt 2/43 =====\n",
            "[START] Chosen base a: 9\n",
            "=> 9 and 45 share common factor: 45 = 9 * 5\n"
          ]
        },
        {
          "name": "stderr",
          "output_type": "stream",
          "text": [
            "/var/folders/p8/wytng6t53dl_gcrnlz01_zn00000gn/T/ipykernel_85415/2733909651.py:26: DeprecationWarning: The class ``qiskit.circuit.library.basis_change.qft.QFT`` is deprecated as of Qiskit 2.1. It will be removed in Qiskit 3.0. ('Use qiskit.circuit.library.QFTGate or qiskit.synthesis.qft.synth_qft_full instead, for access to all previous arguments.',)\n",
            "  QFT(self.num_qubits // 2, inverse=True),\n"
          ]
        }
      ],
      "source": [
        "# @markdown ### **5. Run the Factorization** { display-mode: \"form\" }\n",
        "number_to_factor = 45 # @param {type:\"slider\", min: 15, max: 55, step: 1}\n",
        "max_attempts = -1 # @param {type:\"slider\", min:-1, max:100, step:10}\n",
        "random_coprime_only = False # @param {type:\"boolean\"}\n",
        "# @markdown ***Note**: `max_attempts` will be limited to number of available values.\n",
        "\n",
        "shor = ShorAlgorithm(number_to_factor, max_attempts, random_coprime_only, AerSimulator())\n",
        "factors = shor.execute()\n",
        "try: display(shor.qpe_circuit.draw(output='mpl', fold=-1))\n",
        "except Exception: pass"
      ]
    }
  ],
  "metadata": {
    "colab": {
      "provenance": []
    },
    "kernelspec": {
      "display_name": "Quantum computing",
      "language": "python",
      "name": "python3"
    },
    "language_info": {
      "codemirror_mode": {
        "name": "ipython",
        "version": 3
      },
      "file_extension": ".py",
      "mimetype": "text/x-python",
      "name": "python",
      "nbconvert_exporter": "python",
      "pygments_lexer": "ipython3",
      "version": "3.9.0"
    }
  },
  "nbformat": 4,
  "nbformat_minor": 0
}
