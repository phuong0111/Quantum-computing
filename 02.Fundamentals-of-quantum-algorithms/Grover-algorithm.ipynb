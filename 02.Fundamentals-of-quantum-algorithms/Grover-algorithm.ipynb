{
 "cells": [
  {
   "cell_type": "markdown",
   "id": "5d65f855",
   "metadata": {},
   "source": [
    "# Grover's Algorithm"
   ]
  },
  {
   "cell_type": "code",
   "execution_count": null,
   "id": "9b5682ec",
   "metadata": {},
   "outputs": [],
   "source": [
    "from qiskit import QuantumCircuit\n",
    "from qiskit_algorithms import AmplificationProblem\n",
    "from qiskit.circuit.library import PhaseOracle\n",
    "\n",
    "log_expr = '((Ben & Lia) | (Martin & Mia) | (Ben & Feyling) | (Jack & Mia)) & ~(Lia & Martin)'\n",
    "oracle = PhaseOracle(expression=log_expr)\n",
    "display(oracle.draw(\"mpl\"))\n",
    "\n",
    "# define Grover's algorithm\n",
    "problem = AmplificationProblem(oracle)\n",
    "\n",
    "# now we can have a look at the Grover operator that is used in running the algorithm\n",
    "# (Algorithm circuits are wrapped in a gate to appear in composition as a block\n",
    "# so we have to decompose() the op to see it expanded into its component gates.)\n",
    "problem.grover_operator.decompose().draw(output=\"mpl\")"
   ]
  },
  {
   "cell_type": "code",
   "execution_count": null,
   "id": "788928e3",
   "metadata": {},
   "outputs": [],
   "source": [
    "from qiskit_algorithms import Grover\n",
    "from qiskit_aer.primitives import Sampler\n",
    "\n",
    "\n",
    "grover = Grover(sampler=Sampler())\n",
    "result = grover.amplify(problem)\n",
    "print(\"Result type:\", type(result))\n",
    "print()\n",
    "print(\"Success!\" if result.oracle_evaluation else \"Failure!\")\n",
    "print(\"Top measurement:\", result.top_measurement)"
   ]
  }
 ],
 "metadata": {
  "kernelspec": {
   "display_name": "Quantum computing",
   "language": "python",
   "name": "python3"
  },
  "language_info": {
   "name": "python",
   "version": "3.9.0"
  }
 },
 "nbformat": 4,
 "nbformat_minor": 5
}
